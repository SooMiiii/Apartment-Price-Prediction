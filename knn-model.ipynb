{
 "cells": [
  {
   "cell_type": "code",
   "execution_count": null,
   "metadata": {
    "vscode": {
     "languageId": "plaintext"
    }
   },
   "outputs": [],
   "source": [
    "import pandas as pd\n",
    "import numpy as np\n",
    "from sklearn.neighbors import BallTree\n",
    "from sklearn.preprocessing import StandardScaler\n",
    "from sklearn.model_selection import train_test_split\n",
    "from sklearn.metrics import mean_absolute_error\n",
    "\n",
    "# 데이터 로드\n",
    "train_df = pd.read_csv('train.csv')\n",
    "test_df = pd.read_csv('test.csv')\n",
    "\n",
    "# 특성 선택\n",
    "features = ['latitude', 'longitude', 'area_m2', 'floor', 'built_year', 'contract_year_month']\n",
    "\n",
    "# Train 데이터를 train과 validation으로 분리\n",
    "train_df, val_df = train_test_split(train_df, test_size=0.2, random_state=42)\n",
    "\n",
    "# 스케일링\n",
    "scaler = StandardScaler()\n",
    "train_scaled = scaler.fit_transform(train_df[features])\n",
    "val_scaled = scaler.transform(val_df[features])\n",
    "test_scaled = scaler.transform(test_df[features])\n",
    "\n",
    "# BallTree 구축\n",
    "tree = BallTree(train_scaled, leaf_size=2)\n",
    "\n",
    "# 예측 함수\n",
    "def predict_deposit(neighbors, distances):\n",
    "    weights = 1 / (distances + 1e-5)\n",
    "    weighted_deposits = neighbors['deposit'] * weights\n",
    "    return np.sum(weighted_deposits) / np.sum(weights)\n",
    "\n",
    "# 예측 수행 함수\n",
    "def make_predictions(data_scaled, k):\n",
    "    distances, indices = tree.query(data_scaled, k=k)\n",
    "    predictions = []\n",
    "    for i in range(len(data_scaled)):\n",
    "        neighbor_indices = indices[i]\n",
    "        neighbor_distances = distances[i]\n",
    "        neighbors = train_df.iloc[neighbor_indices]\n",
    "        pred = predict_deposit(neighbors, neighbor_distances)\n",
    "        predictions.append(pred)\n",
    "    return predictions\n",
    "\n",
    "# Validation 예측\n",
    "k = 5\n",
    "val_predictions = make_predictions(val_scaled, k)\n",
    "\n",
    "# Validation MAE 계산\n",
    "val_mae = mean_absolute_error(val_df['deposit'], val_predictions)\n",
    "print(f\"Validation MAE: {val_mae}\")\n",
    "\n",
    "# Test 예측\n",
    "test_predictions = make_predictions(test_scaled, k)\n",
    "\n",
    "# 결과 저장\n",
    "submission_df = pd.DataFrame({\n",
    "    'index': test_df['index'],\n",
    "    'deposit': test_predictions\n",
    "})\n",
    "\n",
    "submission_df.to_csv('submission.csv', index=False)\n",
    "\n",
    "print(\"예측이 완료되었습니다. 'submission.csv' 파일을 확인하세요.\")"
   ]
  }
 ],
 "metadata": {
  "language_info": {
   "name": "python"
  }
 },
 "nbformat": 4,
 "nbformat_minor": 2
}
